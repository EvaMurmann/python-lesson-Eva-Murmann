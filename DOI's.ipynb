{
 "cells": [
  {
   "cell_type": "code",
   "execution_count": 1,
   "metadata": {},
   "outputs": [],
   "source": [
    "import urllib.request\n",
    "import json"
   ]
  },
  {
   "cell_type": "code",
   "execution_count": 2,
   "metadata": {},
   "outputs": [],
   "source": [
    "base_url = \"https://api.crossref.org/works/\"\n",
    "doi = \"10.1371/journal.pcbi.1004668\"\n",
    "full_url = base_url + doi"
   ]
  },
  {
   "cell_type": "code",
   "execution_count": 3,
   "metadata": {},
   "outputs": [],
   "source": [
    "doi_json_data = urllib.request.urlopen(full_url).read()"
   ]
  },
  {
   "cell_type": "code",
   "execution_count": 4,
   "metadata": {},
   "outputs": [
    {
     "name": "stdout",
     "output_type": "stream",
     "text": [
      "b'{\"status\":\"ok\",\"message-type\":\"work\",\"message-version\":\"1.0.0\",\"message\":{\"indexed\":{\"date-parts\":[[2021,3,29]],\"date-time\":\"2021-03-29T07:24:36Z\",\"timestamp\":1617002676182},\"reference-count\":6,\"publisher\":\"Public Library of Science (PLoS)\",\"issue\":\"1\",\"license\":[{\"URL\":\"http:\\\\/\\\\/creativecommons.org\\\\/licenses\\\\/by\\\\/4.0\\\\/\",\"start\":{\"date-parts\":[[2016,1,19]],\"date-time\":\"2016-01-19T00:00:00Z\",\"timestamp\":1453161600000},\"delay-in-days\":0,\"content-version\":\"vor\"}],\"content-domain\":{\"domain\":[\"www.ploscompbiol.org\"],\"crossmark-restriction\":false},\"short-container-title\":[\"PLoS Comput Biol\"],\"DOI\":\"10.1371\\\\/journal.pcbi.1004668\",\"type\":\"journal-article\",\"created\":{\"date-parts\":[[2016,1,19]],\"date-time\":\"2016-01-19T21:35:29Z\",\"timestamp\":1453239329000},\"page\":\"e1004668\",\"update-policy\":\"http:\\\\/\\\\/dx.doi.org\\\\/10.1371\\\\/journal.pcbi.corrections_policy\",\"source\":\"Crossref\",\"is-referenced-by-count\":55,\"title\":[\"A Quick Introduction to Version Control with Git and GitHub\"],\"prefix\":\"10.1371\",\"volume\":\"12\",\"author\":[{\"given\":\"John D.\",\"family\":\"Blischak\",\"sequence\":\"first\",\"affiliation\":[]},{\"given\":\"Emily R.\",\"family\":\"Davenport\",\"sequence\":\"additional\",\"affiliation\":[]},{\"given\":\"Greg\",\"family\":\"Wilson\",\"sequence\":\"additional\",\"affiliation\":[]}],\"member\":\"340\",\"published-online\":{\"date-parts\":[[2016,1,19]]},\"reference\":[{\"key\":\"ref1\",\"doi-asserted-by\":\"crossref\",\"first-page\":\"7\",\"DOI\":\"10.1186\\\\/1751-0473-8-7\",\"article-title\":\"Git can facilitate greater reproducibility and increased transparency in science\",\"volume\":\"8\",\"author\":\"K Ram\",\"year\":\"2013\",\"journal-title\":\"Source Code Biol Med\"},{\"key\":\"ref2\",\"doi-asserted-by\":\"crossref\",\"first-page\":\"e1001745\",\"DOI\":\"10.1371\\\\/journal.pbio.1001745\",\"article-title\":\"Best practices for scientific computing\",\"volume\":\"12\",\"author\":\"G Wilson\",\"year\":\"2014\",\"journal-title\":\"PLoS Biol\"},{\"key\":\"ref3\",\"doi-asserted-by\":\"crossref\",\"first-page\":\"57\",\"DOI\":\"10.1038\\\\/nature11247\",\"article-title\":\"An integrated encyclopedia of DNA elements in the human genome\",\"volume\":\"489\",\"author\":\"B Bernstein\",\"year\":\"2012\",\"journal-title\":\"Nature\"},{\"key\":\"ref4\",\"doi-asserted-by\":\"crossref\",\"first-page\":\"e1003326\",\"DOI\":\"10.1371\\\\/journal.pcbi.1003326\",\"article-title\":\"Practical guidelines for the comprehensive analysis of ChIP-seq data\",\"volume\":\"9\",\"author\":\"T Bailey\",\"year\":\"2013\",\"journal-title\":\"PLoS Comput Biol\"},{\"key\":\"ref5\",\"doi-asserted-by\":\"crossref\",\"first-page\":\"e1000424\",\"DOI\":\"10.1371\\\\/journal.pcbi.1000424\",\"article-title\":\"A quick guide to organizing computational biology projects\",\"volume\":\"5\",\"author\":\"W Noble\",\"year\":\"2009\",\"journal-title\":\"PLoS Comput Biol\"},{\"key\":\"ref6\",\"doi-asserted-by\":\"crossref\",\"first-page\":\"e1002598\",\"DOI\":\"10.1371\\\\/journal.pcbi.1002598\",\"article-title\":\"A quick guide to software licensing for the scientist-programmer\",\"volume\":\"8\",\"author\":\"A Morin\",\"year\":\"2012\",\"journal-title\":\"PLoS Comput Biol\"}],\"container-title\":[\"PLOS Computational Biology\"],\"original-title\":[],\"language\":\"en\",\"link\":[{\"URL\":\"http:\\\\/\\\\/dx.plos.org\\\\/10.1371\\\\/journal.pcbi.1004668\",\"content-type\":\"unspecified\",\"content-version\":\"vor\",\"intended-application\":\"similarity-checking\"}],\"deposited\":{\"date-parts\":[[2020,5,8]],\"date-time\":\"2020-05-08T21:36:54Z\",\"timestamp\":1588973814000},\"score\":1.0,\"subtitle\":[],\"editor\":[{\"given\":\"Francis\",\"family\":\"Ouellette\",\"sequence\":\"first\",\"affiliation\":[]}],\"short-title\":[],\"issued\":{\"date-parts\":[[2016,1,19]]},\"references-count\":6,\"journal-issue\":{\"published-online\":{\"date-parts\":[[2016,1,19]]},\"issue\":\"1\"},\"URL\":\"http:\\\\/\\\\/dx.doi.org\\\\/10.1371\\\\/journal.pcbi.1004668\",\"relation\":{\"cites\":[]},\"ISSN\":[\"1553-7358\"],\"issn-type\":[{\"value\":\"1553-7358\",\"type\":\"electronic\"}],\"subject\":[\"Ecology\",\"Modelling and Simulation\",\"Computational Theory and Mathematics\",\"Genetics\",\"Ecology, Evolution, Behavior and Systematics\",\"Molecular Biology\",\"Cellular and Molecular Neuroscience\"]}}'\n"
     ]
    }
   ],
   "source": [
    "print(doi_json_data)"
   ]
  },
  {
   "cell_type": "code",
   "execution_count": 7,
   "metadata": {},
   "outputs": [
    {
     "data": {
      "text/plain": [
       "bytes"
      ]
     },
     "execution_count": 7,
     "metadata": {},
     "output_type": "execute_result"
    }
   ],
   "source": [
    "type(doi_json_data)"
   ]
  },
  {
   "cell_type": "code",
   "execution_count": 8,
   "metadata": {},
   "outputs": [],
   "source": [
    "doi_data = json.loads(doi_json_data)"
   ]
  },
  {
   "cell_type": "code",
   "execution_count": 9,
   "metadata": {},
   "outputs": [
    {
     "data": {
      "text/plain": [
       "dict"
      ]
     },
     "execution_count": 9,
     "metadata": {},
     "output_type": "execute_result"
    }
   ],
   "source": [
    "type(doi_data)"
   ]
  },
  {
   "cell_type": "code",
   "execution_count": 10,
   "metadata": {},
   "outputs": [
    {
     "name": "stdout",
     "output_type": "stream",
     "text": [
      "{'status': 'ok', 'message-type': 'work', 'message-version': '1.0.0', 'message': {'indexed': {'date-parts': [[2020, 8, 1]], 'date-time': '2020-08-01T02:45:38Z', 'timestamp': 1596249938548}, 'reference-count': 2, 'publisher': 'The Open Journal', 'issue': '30', 'license': [{'URL': 'http://creativecommons.org/licenses/by/4.0/', 'start': {'date-parts': [[2018, 10, 26]], 'date-time': '2018-10-26T00:00:00Z', 'timestamp': 1540512000000}, 'delay-in-days': 0, 'content-version': 'vor'}, {'URL': 'http://creativecommons.org/licenses/by/4.0/', 'start': {'date-parts': [[2018, 10, 26]], 'date-time': '2018-10-26T00:00:00Z', 'timestamp': 1540512000000}, 'delay-in-days': 0, 'content-version': 'am'}, {'URL': 'http://creativecommons.org/licenses/by/4.0/', 'start': {'date-parts': [[2018, 10, 26]], 'date-time': '2018-10-26T00:00:00Z', 'timestamp': 1540512000000}, 'delay-in-days': 0, 'content-version': 'tdm'}], 'content-domain': {'domain': [], 'crossmark-restriction': False}, 'short-container-title': ['JOSS'], 'published-print': {'date-parts': [[2018, 10, 26]]}, 'DOI': '10.21105/joss.01006', 'type': 'journal-article', 'created': {'date-parts': [[2018, 10, 26]], 'date-time': '2018-10-26T20:04:42Z', 'timestamp': 1540584282000}, 'page': '1006', 'source': 'Crossref', 'is-referenced-by-count': 0, 'title': ['SeqTools: A python package for easy transformation, combination and evaluation of large datasets.'], 'prefix': '10.21105', 'volume': '3', 'author': [{'ORCID': 'http://orcid.org/0000-0003-2943-9888', 'authenticated-orcid': False, 'given': 'Nicolas', 'family': 'Granger', 'sequence': 'first', 'affiliation': []}, {'ORCID': 'http://orcid.org/0000-0002-7383-0588', 'authenticated-orcid': False, 'given': 'Mounîm', 'family': 'Yacoubi', 'sequence': 'additional', 'affiliation': []}], 'member': '8722', 'reference': [{'key': 'ref1', 'unstructured': 'TensorFlow: Large-Scale Machine Learning on Heterogeneous Systems, https://www.tensorflow.org/, Software available from tensorflow.org, Martı́n\\xa0Abadi and Ashish\\xa0Agarwal and Paul\\xa0Barham and Eugene\\xa0Brevdo and Zhifeng\\xa0Chen and Craig\\xa0Citro and Greg\\xa0S.\\xa0Corrado and Andy\\xa0Davis and Jeffrey\\xa0Dean and Matthieu\\xa0Devin and Sanjay\\xa0Ghemawat and Ian\\xa0Goodfellow and Andrew\\xa0Harp and Geoffrey\\xa0Irving and Michael\\xa0Isard and Jia, Yangqing and Rafal\\xa0Jozefowicz and Lukasz\\xa0Kaiser and Manjunath\\xa0Kudlur and Josh\\xa0Levenberg and Dandelion\\xa0Mané and Rajat\\xa0Monga and Sherry\\xa0Moore and Derek\\xa0Murray and Chris\\xa0Olah and Mike\\xa0Schuster and Jonathon\\xa0Shlens and Benoit\\xa0Steiner and Ilya\\xa0Sutskever and Kunal\\xa0Talwar and Paul\\xa0Tucker and Vincent\\xa0Vanhoucke and Vijay\\xa0Vasudevan and Fernanda\\xa0Viégas and Oriol\\xa0Vinyals and Pete\\xa0Warden and Martin\\xa0Wattenberg and Martin\\xa0Wicke and Yuan\\xa0Yu and Xiaoqiang\\xa0Zheng, 2015'}, {'key': 'ref2', 'unstructured': 'Automatic differentiation in PyTorch, Paszke, Adam and Gross, Sam and Chintala, Soumith and Chanan, Gregory and Yang, Edward and DeVito, Zachary and Lin, Zeming and Desmaison, Alban and Antiga, Luca and Lerer, Adam, NIPS-W, 2017'}], 'container-title': ['Journal of Open Source Software'], 'original-title': [], 'link': [{'URL': 'http://www.theoj.org/joss-papers/joss.01006/10.21105.joss.01006.pdf', 'content-type': 'application/pdf', 'content-version': 'vor', 'intended-application': 'text-mining'}], 'deposited': {'date-parts': [[2019, 11, 17]], 'date-time': '2019-11-17T20:11:23Z', 'timestamp': 1574021483000}, 'score': 1.0, 'subtitle': [], 'short-title': [], 'issued': {'date-parts': [[2018, 10, 26]]}, 'references-count': 2, 'journal-issue': {'published-online': {'date-parts': [[2018, 10]]}, 'issue': '30'}, 'alternative-id': ['10.21105/joss.01006'], 'URL': 'http://dx.doi.org/10.21105/joss.01006', 'relation': {'references': [{'id-type': 'doi', 'id': 'https://doi.org/10.5281/zenodo.1472094', 'asserted-by': 'subject'}], 'has-review': [{'id-type': 'uri', 'id': 'https://github.com/openjournals/joss-reviews/issues/1006', 'asserted-by': 'subject'}], 'cites': []}, 'ISSN': ['2475-9066'], 'issn-type': [{'value': '2475-9066', 'type': 'electronic'}]}}\n"
     ]
    }
   ],
   "source": [
    "print(doi_data)"
   ]
  },
  {
   "cell_type": "code",
   "execution_count": 11,
   "metadata": {},
   "outputs": [
    {
     "data": {
      "text/plain": [
       "dict_keys(['status', 'message-type', 'message-version', 'message'])"
      ]
     },
     "execution_count": 11,
     "metadata": {},
     "output_type": "execute_result"
    }
   ],
   "source": [
    "doi_data.keys()"
   ]
  },
  {
   "cell_type": "code",
   "execution_count": 12,
   "metadata": {},
   "outputs": [
    {
     "data": {
      "text/plain": [
       "{'indexed': {'date-parts': [[2020, 8, 1]],\n",
       "  'date-time': '2020-08-01T02:45:38Z',\n",
       "  'timestamp': 1596249938548},\n",
       " 'reference-count': 2,\n",
       " 'publisher': 'The Open Journal',\n",
       " 'issue': '30',\n",
       " 'license': [{'URL': 'http://creativecommons.org/licenses/by/4.0/',\n",
       "   'start': {'date-parts': [[2018, 10, 26]],\n",
       "    'date-time': '2018-10-26T00:00:00Z',\n",
       "    'timestamp': 1540512000000},\n",
       "   'delay-in-days': 0,\n",
       "   'content-version': 'vor'},\n",
       "  {'URL': 'http://creativecommons.org/licenses/by/4.0/',\n",
       "   'start': {'date-parts': [[2018, 10, 26]],\n",
       "    'date-time': '2018-10-26T00:00:00Z',\n",
       "    'timestamp': 1540512000000},\n",
       "   'delay-in-days': 0,\n",
       "   'content-version': 'am'},\n",
       "  {'URL': 'http://creativecommons.org/licenses/by/4.0/',\n",
       "   'start': {'date-parts': [[2018, 10, 26]],\n",
       "    'date-time': '2018-10-26T00:00:00Z',\n",
       "    'timestamp': 1540512000000},\n",
       "   'delay-in-days': 0,\n",
       "   'content-version': 'tdm'}],\n",
       " 'content-domain': {'domain': [], 'crossmark-restriction': False},\n",
       " 'short-container-title': ['JOSS'],\n",
       " 'published-print': {'date-parts': [[2018, 10, 26]]},\n",
       " 'DOI': '10.21105/joss.01006',\n",
       " 'type': 'journal-article',\n",
       " 'created': {'date-parts': [[2018, 10, 26]],\n",
       "  'date-time': '2018-10-26T20:04:42Z',\n",
       "  'timestamp': 1540584282000},\n",
       " 'page': '1006',\n",
       " 'source': 'Crossref',\n",
       " 'is-referenced-by-count': 0,\n",
       " 'title': ['SeqTools: A python package for easy transformation, combination and evaluation of large datasets.'],\n",
       " 'prefix': '10.21105',\n",
       " 'volume': '3',\n",
       " 'author': [{'ORCID': 'http://orcid.org/0000-0003-2943-9888',\n",
       "   'authenticated-orcid': False,\n",
       "   'given': 'Nicolas',\n",
       "   'family': 'Granger',\n",
       "   'sequence': 'first',\n",
       "   'affiliation': []},\n",
       "  {'ORCID': 'http://orcid.org/0000-0002-7383-0588',\n",
       "   'authenticated-orcid': False,\n",
       "   'given': 'Mounîm',\n",
       "   'family': 'Yacoubi',\n",
       "   'sequence': 'additional',\n",
       "   'affiliation': []}],\n",
       " 'member': '8722',\n",
       " 'reference': [{'key': 'ref1',\n",
       "   'unstructured': 'TensorFlow: Large-Scale Machine Learning on Heterogeneous Systems, https://www.tensorflow.org/, Software available from tensorflow.org, Martı́n\\xa0Abadi and Ashish\\xa0Agarwal and Paul\\xa0Barham and Eugene\\xa0Brevdo and Zhifeng\\xa0Chen and Craig\\xa0Citro and Greg\\xa0S.\\xa0Corrado and Andy\\xa0Davis and Jeffrey\\xa0Dean and Matthieu\\xa0Devin and Sanjay\\xa0Ghemawat and Ian\\xa0Goodfellow and Andrew\\xa0Harp and Geoffrey\\xa0Irving and Michael\\xa0Isard and Jia, Yangqing and Rafal\\xa0Jozefowicz and Lukasz\\xa0Kaiser and Manjunath\\xa0Kudlur and Josh\\xa0Levenberg and Dandelion\\xa0Mané and Rajat\\xa0Monga and Sherry\\xa0Moore and Derek\\xa0Murray and Chris\\xa0Olah and Mike\\xa0Schuster and Jonathon\\xa0Shlens and Benoit\\xa0Steiner and Ilya\\xa0Sutskever and Kunal\\xa0Talwar and Paul\\xa0Tucker and Vincent\\xa0Vanhoucke and Vijay\\xa0Vasudevan and Fernanda\\xa0Viégas and Oriol\\xa0Vinyals and Pete\\xa0Warden and Martin\\xa0Wattenberg and Martin\\xa0Wicke and Yuan\\xa0Yu and Xiaoqiang\\xa0Zheng, 2015'},\n",
       "  {'key': 'ref2',\n",
       "   'unstructured': 'Automatic differentiation in PyTorch, Paszke, Adam and Gross, Sam and Chintala, Soumith and Chanan, Gregory and Yang, Edward and DeVito, Zachary and Lin, Zeming and Desmaison, Alban and Antiga, Luca and Lerer, Adam, NIPS-W, 2017'}],\n",
       " 'container-title': ['Journal of Open Source Software'],\n",
       " 'original-title': [],\n",
       " 'link': [{'URL': 'http://www.theoj.org/joss-papers/joss.01006/10.21105.joss.01006.pdf',\n",
       "   'content-type': 'application/pdf',\n",
       "   'content-version': 'vor',\n",
       "   'intended-application': 'text-mining'}],\n",
       " 'deposited': {'date-parts': [[2019, 11, 17]],\n",
       "  'date-time': '2019-11-17T20:11:23Z',\n",
       "  'timestamp': 1574021483000},\n",
       " 'score': 1.0,\n",
       " 'subtitle': [],\n",
       " 'short-title': [],\n",
       " 'issued': {'date-parts': [[2018, 10, 26]]},\n",
       " 'references-count': 2,\n",
       " 'journal-issue': {'published-online': {'date-parts': [[2018, 10]]},\n",
       "  'issue': '30'},\n",
       " 'alternative-id': ['10.21105/joss.01006'],\n",
       " 'URL': 'http://dx.doi.org/10.21105/joss.01006',\n",
       " 'relation': {'references': [{'id-type': 'doi',\n",
       "    'id': 'https://doi.org/10.5281/zenodo.1472094',\n",
       "    'asserted-by': 'subject'}],\n",
       "  'has-review': [{'id-type': 'uri',\n",
       "    'id': 'https://github.com/openjournals/joss-reviews/issues/1006',\n",
       "    'asserted-by': 'subject'}],\n",
       "  'cites': []},\n",
       " 'ISSN': ['2475-9066'],\n",
       " 'issn-type': [{'value': '2475-9066', 'type': 'electronic'}]}"
      ]
     },
     "execution_count": 12,
     "metadata": {},
     "output_type": "execute_result"
    }
   ],
   "source": [
    "doi_data[\"message\"]"
   ]
  },
  {
   "cell_type": "code",
   "execution_count": 13,
   "metadata": {},
   "outputs": [
    {
     "data": {
      "text/plain": [
       "['JOSS']"
      ]
     },
     "execution_count": 13,
     "metadata": {},
     "output_type": "execute_result"
    }
   ],
   "source": [
    "doi_data[\"message\"][\"short-container-title\"]"
   ]
  },
  {
   "cell_type": "code",
   "execution_count": 14,
   "metadata": {},
   "outputs": [
    {
     "data": {
      "text/plain": [
       "'JOSS'"
      ]
     },
     "execution_count": 14,
     "metadata": {},
     "output_type": "execute_result"
    }
   ],
   "source": [
    "doi_data[\"message\"][\"short-container-title\"][0]"
   ]
  },
  {
   "cell_type": "code",
   "execution_count": 15,
   "metadata": {},
   "outputs": [
    {
     "data": {
      "text/plain": [
       "'SeqTools: A python package for easy transformation, combination and evaluation of large datasets.'"
      ]
     },
     "execution_count": 15,
     "metadata": {},
     "output_type": "execute_result"
    }
   ],
   "source": [
    "doi_data[\"message\"][\"title\"][0]"
   ]
  },
  {
   "cell_type": "code",
   "execution_count": 16,
   "metadata": {},
   "outputs": [],
   "source": [
    "dois = [\"10.1371/journal.pcbi.1004668\",\n",
    "        \"10.21105/joss.01035\",\n",
    "        \"10.1038/35057062\",\n",
    "        \"10.21105/joss.01006\"]"
   ]
  },
  {
   "cell_type": "code",
   "execution_count": 17,
   "metadata": {},
   "outputs": [
    {
     "name": "stdout",
     "output_type": "stream",
     "text": [
      "A Quick Introduction to Version Control with Git and GitHub\n",
      "PLoS Comput Biol\n",
      "nasapower: A NASA POWER Global Meteorology, Surface Solar Energy and Climatology Data Client for R\n",
      "JOSS\n",
      "Initial sequencing and analysis of the human genome\n",
      "Nature\n",
      "SeqTools: A python package for easy transformation, combination and evaluation of large datasets.\n",
      "JOSS\n"
     ]
    }
   ],
   "source": [
    "for doi in dois:\n",
    "    full_url = base_url + doi\n",
    "    doi_json_data = urllib.request.urlopen(full_url).read()\n",
    "    doi_data = json.loads(doi_json_data)\n",
    "    print(doi_data[\"message\"][\"title\"][0])\n",
    "    print(doi_data[\"message\"][\"short-container-title\"][0])"
   ]
  },
  {
   "cell_type": "code",
   "execution_count": null,
   "metadata": {},
   "outputs": [],
   "source": []
  }
 ],
 "metadata": {
  "kernelspec": {
   "display_name": "Python 3",
   "language": "python",
   "name": "python3"
  },
  "language_info": {
   "codemirror_mode": {
    "name": "ipython",
    "version": 3
   },
   "file_extension": ".py",
   "mimetype": "text/x-python",
   "name": "python",
   "nbconvert_exporter": "python",
   "pygments_lexer": "ipython3",
   "version": "3.8.5"
  }
 },
 "nbformat": 4,
 "nbformat_minor": 4
}
